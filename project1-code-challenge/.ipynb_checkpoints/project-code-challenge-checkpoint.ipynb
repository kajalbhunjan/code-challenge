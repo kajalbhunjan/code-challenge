{
 "cells": [
  {
   "cell_type": "markdown",
   "metadata": {},
   "source": [
    "<img src=\"http://imgur.com/1ZcRyrc.png\" style=\"float: left; margin: 20px; height: 55px\">\n",
    "\n",
    "# Project 1: Python Coding Exercises\n",
    "\n",
    "_Authors: Joseph Nelson (DC) _\n",
    "\n",
    "---"
   ]
  },
  {
   "cell_type": "markdown",
   "metadata": {},
   "source": [
    "The following code challenges are drawn from common exercises used in technical interviews.\n",
    "\n",
    "Please note that there may be several ways to approach each challenge. If you get stuck, try mapping out your approach in pseudocode first. Finally, while solutions to problems like these may be found online, remember that if you copy/paste code that you can't explain, you'll be missing out on the point of the project. The only way to truly learn a new skill is through practice, trial, and error - we can only help you improve by understanding where you are having trouble."
   ]
  },
  {
   "cell_type": "markdown",
   "metadata": {},
   "source": [
    "### Challenge 1: Largest Palindrome\n",
    "A palindromic number reads the same both ways. For example, 1234321 is a palindrome. The largest palindrome made from the product of two two-digit numbers is 9009 = 91 × 99. Find the largest palindrome made from the product of two three-digit numbers. Afterward, write a brief explanation walking through your code's logic in markdown."
   ]
  },
  {
   "cell_type": "code",
   "execution_count": null,
   "metadata": {
    "scrolled": true
   },
   "outputs": [],
   "source": [
    "#creating a list of palindromes\n",
    "palindromes = []\n",
    "\n",
    "for i in range(100,1000):\n",
    "    for m in range(100,1000):\n",
    "#finding the product of any two values which are within the 100 - 1000 range\n",
    "        x = i*m\n",
    "#converting the product to a string\n",
    "        a = str(x)\n",
    "#finding the length of half of a string \n",
    "        l = int(len(a)/2)\n",
    "#splitting up the string into two parts - the first half and the second half\n",
    "        part_a, part_b = a[:l],a[l:]\n",
    "#reversing second half of a string and comparing it to the first half\n",
    "#if two parts equal each other then I'm adding the value to the palindrome list \n",
    "        if part_a == part_b[::-1]:\n",
    "            palindromes.append(x)\n",
    "        else: \n",
    "            continue\n",
    "#taking the maximum value out the list of palindromes \n",
    "largest_palindrome = max(palindromes)\n",
    "\n",
    "print (\"The largest palindrome from the product of two three-digit numbers is\", largest_palindrome)"
   ]
  },
  {
   "cell_type": "markdown",
   "metadata": {},
   "source": [
    "I'm first creating a list of palindromes to keep track of all the palindromes. Then I'm finding the product of two values which are both between 100 and 1000 since the product of any two numbers in that range will yield a 6-digit number. I'm then splitting the product in two and determining the length of each half of the product (ex. if the product is 162345, then the first half will be 162 and the second half 345). \n",
    "\n",
    "I'm assigning the first half value to the \"part_a\" and the second half value to \"part_b\". I'm reversing part_b and part_a and part_b. If part_a has the same value as part_b, then the value is a palindrome and I'm adding it to the lisst of palindromes. In the end, I find the maximum value in the list of palindromes."
   ]
  },
  {
   "cell_type": "markdown",
   "metadata": {},
   "source": [
    "\n",
    "### Challenge 2: Summation of Primes\n",
    "The sum of the primes below 10 is 2 + 3 + 5 + 7 = 17. Find the sum of all the primes below 2,000. Afterward, write a brief explanation walking through your code's logic in markdown."
   ]
  },
  {
   "cell_type": "code",
   "execution_count": 42,
   "metadata": {},
   "outputs": [
    {
     "name": "stdout",
     "output_type": "stream",
     "text": [
      "Sum of all primes numbers below 2000 is 277050\n"
     ]
    }
   ],
   "source": [
    "#creating two variables - sum of primes numbers and count of primes numbers\n",
    "sum = 0\n",
    "count = 0\n",
    "\n",
    "#for a number in the range 2 - 2001 (excluding 1 because 1 is not a prime number)\n",
    "#the number is divisible by any value below it then break the second loop and loop through a different number\n",
    "for num in range(2,2001):\n",
    "    for i in range(2,num):\n",
    "        if (num%i)==0:\n",
    "            break\n",
    "#this part catches all the numbers that do not have factors and are thus prime numbers \n",
    "    else:\n",
    "#adding up the prime numbers and counting the number of prime numbers \n",
    "        sum += num\n",
    "        count += 1 \n",
    "print (\"Sum of all primes numbers below 2000 is\",sum)"
   ]
  },
  {
   "cell_type": "markdown",
   "metadata": {},
   "source": [
    "I'm creating two variables - sum and count. Sum to later add the primes numbers and count to keep a count of the number of primes numbers. I'm looping a number in the range 2 to 2001 through another loop where the range is lower than the number. If the number is divisible by i, then break the loop and loop another i. After all \"i\"s in the range have gone through the loop, the else statement catches all the numbers that are not divisible by i and hence are prime numbers. "
   ]
  },
  {
   "cell_type": "markdown",
   "metadata": {},
   "source": [
    "### Challenge 3: Multiples of 3 and 5\n",
    "If we list all of the natural numbers below 10 that are multiples of 3 or 5, we get 3, 5, 6, and 9. The sum of these multiples is 23. Find the sum of all the multiples of 3 and 5 below 1,000. Afterward, write a brief explanation walking through your code's logic in markdown."
   ]
  },
  {
   "cell_type": "code",
   "execution_count": null,
   "metadata": {
    "scrolled": true
   },
   "outputs": [],
   "source": [
    "#creating a list of each group of multiples - so a list for multiples of 3, 5 and one for multiples both to prevent double summing of values \n",
    "three_multiples = []\n",
    "five_multiples = []\n",
    "both_multiples = []\n",
    " \n",
    "for i in range(0,1000):\n",
    "#if the value is divisible by both 3 and 5, it's added to the both_multiples list \n",
    "    if i%3 == 0 and i%5 == 0:\n",
    "        both_multiples.append(i)\n",
    "#if the value is only divisible by 5 and not by 3, it's added to the list of multiples for 5 \n",
    "    elif i%5 == 0 and i%3 > 0:\n",
    "        five_multiples.append(i)\n",
    "#if the value is only divisible by 3 and not by 5, it's added to the list of multiples for 3 \n",
    "    elif i%3 == 0 and i%5 > 0:\n",
    "        three_multiples.append(i)\n",
    "    else:\n",
    "        continue\n",
    "\n",
    "sum_of_all = sum(both_multiples) + sum(five_multiples) + sum(three_multiples)\n",
    "print (\"Sum of all the multiples of 3 and 5 below 1000 is\", sum_of_all)"
   ]
  },
  {
   "cell_type": "markdown",
   "metadata": {},
   "source": [
    "Firstly, I'm creating a list for the 3 possible outcomes - a multiple of 3, a multiple of 5, or a multiple of both - to avoid double counting of any value. Then I'm looping the numbers 0 through 1000 through a couple of conditional statements. If a value has no remainder when divided by 3 and 5 then I'm adding it to the list of both multiples. If a value has no remainder when it's divided by 5 and has a remainder when divided by 3 then I'm adding it to the list of multiples of five. If a value has no remainder when it's divided by 3 and has a remainder when divided by 5 then I'm adding it to the list of multiples of three. \n",
    "\n",
    "In the end, I'm taking the sum of all the lists."
   ]
  },
  {
   "cell_type": "markdown",
   "metadata": {},
   "source": [
    "### Challenge 4: String Compressor\n",
    "Implement a method to perform basic string compression using the counts of repeated characters. (This is called run-length encoding.) For example, the string \"aabcccccaaa\" would become a2b1c5a3. If the “compressed” string would not become smaller than the original string, your method should return the original string. You can assume the string has only uppercase and lowercase letters (a–z). Specify whether your solution is case sensitive or case insensitive and what you would need to change to make it the other. Afterward, write a brief explanation walking through your code's logic in markdown."
   ]
  },
  {
   "cell_type": "code",
   "execution_count": 43,
   "metadata": {},
   "outputs": [
    {
     "name": "stdout",
     "output_type": "stream",
     "text": [
      "a2b1c5a3"
     ]
    }
   ],
   "source": [
    "string = \"aabcccccaaa\"\n",
    "#starting a counter for the number of repeated consecutive characters\n",
    "count = 1\n",
    "#i is the index of characters in a string \n",
    "#if i is in range 1 and the length of the string + 1\n",
    "for i in range(1, len(string) + 1):\n",
    "#if the loop has reached its end then print the string + counter \n",
    "    if i == len(string):\n",
    "        print(string[i - 1] + str(count), end=\"\")\n",
    "        break\n",
    "#else if the previous character equals the present character then add 1 to the counter \n",
    "    elif string[i - 1] == string[i]:\n",
    "        count += 1\n",
    "#if any of the above two scenarios do not apply then print the string with the counter and reset counter \n",
    "    else:\n",
    "        print(string[i - 1] + str(count), end=\"\")\n",
    "        count = 1"
   ]
  },
  {
   "cell_type": "markdown",
   "metadata": {},
   "source": [
    "I'm starting a counter for the number of repeated consecutive characters. \"i\" is the index of characters in the string. I'm creating a loop for if \"i\" is in the range 1 and the length of the string plus one. Then I'm using an if statement to determine if \"i\" is the end of the string. If it is then I'm printing the string plus the value of the counter and breaking the loop. Otherwise if the previous character is equal to the current character, I'm adding 1 to the counter. If none of the above scenarios are true, then I'm printing the string plus the current value of the counter and resetting the counter for it to move to the next character in the string."
   ]
  },
  {
   "cell_type": "markdown",
   "metadata": {},
   "source": [
    "### *BONUS* Challenge: FizzBuzz\n",
    "Write a program that prints all of the numbers from 1 to 100. For multiples of 3, instead of the number, print \"Fizz;\" for multiples of 5, print \"Buzz.\" For numbers that are multiples of both 3 and 5, print \"FizzBuzz.\" Afterward, write a brief explanation walking through your code's logic in markdown."
   ]
  },
  {
   "cell_type": "code",
   "execution_count": null,
   "metadata": {},
   "outputs": [],
   "source": [
    "for m in range(1, 101):\n",
    "#if the value is only divisible by 3 and not by 5 then print \"Fizz\"\n",
    "    if m%3 == 0 and m%5 > 0:\n",
    "        print(\"Fizz\")\n",
    "#if the value is only divisible by 5 and not by 3 then print \"Buzz\" \n",
    "    elif m%5 == 0 and m%3 > 0:\n",
    "        print (\"Buzz\")\n",
    "#if the value is divisible by both 3 and 5 then print \"FizzBuzz\"\n",
    "    elif m%3 == 0 and m%5 == 0:\n",
    "        print (\"FizzBuzz\")\n",
    "#for any other possibility print the number\n",
    "    else:\n",
    "        print (m)        "
   ]
  },
  {
   "cell_type": "markdown",
   "metadata": {},
   "source": [
    "I'm looping the numbers 1 through 101 through a couple of conditional statements. If a value has no remainder when divided by 3 and 5 then I'm printing \"FizzBuzz\" instead of the number. If a value has no remainder when it's divided by 5 and has a remainder when divided by 3 then I'm printing \"Buzz\" insted of the number. If a value has no remainder when it's divided by 3 and has a remainder when divided by 5 then I'm printing \"Fizz\" instead of the number. For all other possibilities, I'm printing the number."
   ]
  },
  {
   "cell_type": "code",
   "execution_count": null,
   "metadata": {},
   "outputs": [],
   "source": []
  }
 ],
 "metadata": {
  "anaconda-cloud": {},
  "kernelspec": {
   "display_name": "Python 3",
   "language": "python",
   "name": "python3"
  },
  "language_info": {
   "codemirror_mode": {
    "name": "ipython",
    "version": 3
   },
   "file_extension": ".py",
   "mimetype": "text/x-python",
   "name": "python",
   "nbconvert_exporter": "python",
   "pygments_lexer": "ipython3",
   "version": "3.8.3"
  }
 },
 "nbformat": 4,
 "nbformat_minor": 2
}
